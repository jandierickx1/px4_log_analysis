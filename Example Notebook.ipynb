{
 "cells": [
  {
   "cell_type": "code",
   "execution_count": null,
   "id": "41c98f99",
   "metadata": {
    "scrolled": true
   },
   "outputs": [],
   "source": [
    "import pandas as pd\n",
    "from core import read_log_file\n",
    "import os\n",
    "import numpy as np\n",
    "\n",
    "\n",
    "log_file = '29bd972a-b1bb-4c18-b932-e6cae1081872.ulg'\n",
    "parameters = ['vehicle_global_position_0']\n",
    "df = read_log_file(log_file, parameters)\n",
    "\n",
    "# Show available variables\n",
    "df.columns"
   ]
  },
  {
   "cell_type": "code",
   "execution_count": null,
   "id": "86dadbe2",
   "metadata": {},
   "outputs": [],
   "source": [
    "import matplotlib.dates as mdates\n",
    "import matplotlib.pyplot as plt\n",
    "\n",
    "from matplotlib.dates import DateFormatter\n",
    "\n",
    "\n",
    "# To change the time window one can change the line below. For example \"between_time('0:20', '0:24')\"\n",
    "ax = df.between_time('0:20', '0:24').plot(y = ['alt'])\n",
    "\n",
    "# Remove date/day from x axis\n",
    "mm_ss = DateFormatter('%M:%S')\n",
    "ax.xaxis.set_major_formatter(mm_ss)\n",
    "\n",
    "ax.grid()"
   ]
  },
  {
   "cell_type": "code",
   "execution_count": null,
   "id": "71fc3d8d",
   "metadata": {},
   "outputs": [],
   "source": [
    "time = (df.index-min(df.index)).total_seconds().to_numpy()\n",
    "df['v_speed'] = np.gradient(df.alt.to_numpy(), time)\n",
    "\n",
    "ax = df.between_time('0:00', '0:59').plot(y = ['v_speed'])\n",
    "ax.grid()"
   ]
  },
  {
   "cell_type": "code",
   "execution_count": null,
   "id": "374c46ed",
   "metadata": {},
   "outputs": [],
   "source": []
  }
 ],
 "metadata": {
  "kernelspec": {
   "display_name": "Python 3 (ipykernel)",
   "language": "python",
   "name": "python3"
  },
  "language_info": {
   "codemirror_mode": {
    "name": "ipython",
    "version": 3
   },
   "file_extension": ".py",
   "mimetype": "text/x-python",
   "name": "python",
   "nbconvert_exporter": "python",
   "pygments_lexer": "ipython3",
   "version": "3.9.12"
  }
 },
 "nbformat": 4,
 "nbformat_minor": 5
}
